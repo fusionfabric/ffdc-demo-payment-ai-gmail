{
 "cells": [
  {
   "cell_type": "markdown",
   "metadata": {},
   "source": [
    "<center><h1><font color=\"orange\">Payment Initiative from Unstructured Data:</font></h1></center>\n",
    "<h4>About:</h4>\n",
    "<p>In this notebook we will be exploring the usage of Conditional Random Fields (CRF) for named entity recognition (NER) tasks. NER seeks to locate and classify named entity mentions in unstructured text into pre-defined categories such as the person names, organizations, locations, medical codes, time expressions, quantities, monetary values, percentages, etc. For example, say we want to extract people and geographical locations from the following sentence: </p>\n",
    "<p><i>Frank went to Paris</i><p>\n",
    "<p>An NER model would return Frank tagged as person and Paris tagged as geographical location.</p>\n",
    "<p>In the financial payment industry, financial institutions commonly use mediums such as email and text to facilitate a payment from one account to another. A recipient manually parses this email and then structures the extracted data for upload to an API that facilitates the deal.</p>\n",
    "<p>We will create a CRF that performs NER on these emails and uses Finastra's FFDC API's to initiate the payment. In this notebook you will learn about natural language processing (NLP), Conditional Random Fields, OAuth2 authentication, and APIs.</p> "
   ]
  },
  {
   "cell_type": "markdown",
   "metadata": {},
   "source": [
    "<h4>Imports:</h4>\n",
    "<p>We use the following imports for data handling, visualization, machine learning, and accessing APIs.</p>"
   ]
  },
  {
   "cell_type": "code",
   "execution_count": 341,
   "metadata": {},
   "outputs": [],
   "source": [
    "#Data Handling Imports \n",
    "import pandas as pd\n",
    "import numpy as np\n",
    "import json\n",
    "\n",
    "#NLP Imports\n",
    "import re \n",
    "import nltk\n",
    "\n",
    "#API Handling\n",
    "import requests\n",
    "\n",
    "#Machine Learning Imports\n",
    "from sklearn.model_selection import train_test_split\n",
    "from sklearn_crfsuite import CRF\n",
    "from sklearn_crfsuite.metrics import flat_classification_report\n",
    "from sklearn.metrics import classification_report, confusion_matrix\n",
    "from sklearn_crfsuite import CRF as skCRF\n",
    "from sklearn.externals import joblib\n",
    "\n",
    "#Printing Output\n",
    "from IPython.display import Markdown, display\n",
    "def printmd(string):\n",
    "    display(Markdown(string))\n",
    "    \n",
    "#Visualization\n",
    "from wordcloud import WordCloud, STOPWORDS\n",
    "import matplotlib.pyplot as plt\n",
    "import pygal\n",
    "from pygal.style import Style\n",
    "from IPython.display import display, HTML\n",
    "\n",
    "\n",
    "base_html = \"\"\"\n",
    "<!DOCTYPE html>\n",
    "<html>\n",
    "  <head>\n",
    "  <script type=\"text/javascript\" src=\"http://kozea.github.com/pygal.js/javascripts/svg.jquery.js\"></script>\n",
    "  <script type=\"text/javascript\" src=\"https://kozea.github.io/pygal.js/2.0.x/pygal-tooltips.min.js\"\"></script>\n",
    "  </head>\n",
    "  <body>\n",
    "    <figure>\n",
    "      {rendered_chart}\n",
    "    </figure>\n",
    "  </body>\n",
    "</html>\n",
    "\"\"\"\n",
    "\n",
    "def galplot(chart):\n",
    "    rendered_chart = chart.render(is_unicode=True)\n",
    "    plot_html = base_html.format(rendered_chart=rendered_chart)\n",
    "    display(HTML(plot_html))"
   ]
  },
  {
   "cell_type": "markdown",
   "metadata": {},
   "source": [
    "<h4>Load Data:</h4>\n",
    "<p>Here we load a set of email data with the tagged amount, account the amount is transferred from (accountA), and the account the amount is transferred to (accountB).</p>"
   ]
  },
  {
   "cell_type": "code",
   "execution_count": 349,
   "metadata": {},
   "outputs": [
    {
     "data": {
      "text/html": [
       "<div>\n",
       "<style scoped>\n",
       "    .dataframe tbody tr th:only-of-type {\n",
       "        vertical-align: middle;\n",
       "    }\n",
       "\n",
       "    .dataframe tbody tr th {\n",
       "        vertical-align: top;\n",
       "    }\n",
       "\n",
       "    .dataframe thead th {\n",
       "        text-align: right;\n",
       "    }\n",
       "</style>\n",
       "<table border=\"1\" class=\"dataframe\">\n",
       "  <thead>\n",
       "    <tr style=\"text-align: right;\">\n",
       "      <th></th>\n",
       "      <th>email</th>\n",
       "      <th>amount</th>\n",
       "      <th>accountA</th>\n",
       "      <th>accountB</th>\n",
       "    </tr>\n",
       "  </thead>\n",
       "  <tbody>\n",
       "    <tr>\n",
       "      <th>0</th>\n",
       "      <td>Move money from account 1BJDL9S41QV to account...</td>\n",
       "      <td>8001681</td>\n",
       "      <td>1BJDL9S41QV</td>\n",
       "      <td>3C0</td>\n",
       "    </tr>\n",
       "    <tr>\n",
       "      <th>1</th>\n",
       "      <td>Hey Daniel Martin! Please move $2047210 from a...</td>\n",
       "      <td>2047210</td>\n",
       "      <td>EB3QNELBY93</td>\n",
       "      <td>RP0YYMFX</td>\n",
       "    </tr>\n",
       "    <tr>\n",
       "      <th>2</th>\n",
       "      <td>Hi this is Travis Holt. I need you to do the f...</td>\n",
       "      <td>5453887</td>\n",
       "      <td>CADW9R7G3</td>\n",
       "      <td>KBEUH0T4X063</td>\n",
       "    </tr>\n",
       "    <tr>\n",
       "      <th>3</th>\n",
       "      <td>Hey Margaret Anderson! Please move $4409559 fr...</td>\n",
       "      <td>4409559</td>\n",
       "      <td>DIYICFSGC0CM</td>\n",
       "      <td>ZHKM</td>\n",
       "    </tr>\n",
       "    <tr>\n",
       "      <th>4</th>\n",
       "      <td>move $268762 to WGO7 from C8HN0RA2L4. Thanks.</td>\n",
       "      <td>268762</td>\n",
       "      <td>C8HN0RA2L4</td>\n",
       "      <td>WGO7</td>\n",
       "    </tr>\n",
       "  </tbody>\n",
       "</table>\n",
       "</div>"
      ],
      "text/plain": [
       "                                               email   amount      accountA  \\\n",
       "0  Move money from account 1BJDL9S41QV to account...  8001681   1BJDL9S41QV   \n",
       "1  Hey Daniel Martin! Please move $2047210 from a...  2047210   EB3QNELBY93   \n",
       "2  Hi this is Travis Holt. I need you to do the f...  5453887     CADW9R7G3   \n",
       "3  Hey Margaret Anderson! Please move $4409559 fr...  4409559  DIYICFSGC0CM   \n",
       "4      move $268762 to WGO7 from C8HN0RA2L4. Thanks.   268762    C8HN0RA2L4   \n",
       "\n",
       "       accountB  \n",
       "0           3C0  \n",
       "1      RP0YYMFX  \n",
       "2  KBEUH0T4X063  \n",
       "3          ZHKM  \n",
       "4          WGO7  "
      ]
     },
     "execution_count": 349,
     "metadata": {},
     "output_type": "execute_result"
    }
   ],
   "source": [
    "df = pd.read_csv('data.csv',sep='|')\n",
    "df.head()"
   ]
  },
  {
   "cell_type": "code",
   "execution_count": 350,
   "metadata": {},
   "outputs": [
    {
     "name": "stdout",
     "output_type": "stream",
     "text": [
      "Sample Email: \n",
      "Move money from account 1BJDL9S41QV to account 3C0 of the amount $8001681. Thank you!\n"
     ]
    }
   ],
   "source": [
    "print(\"Sample Email: \")\n",
    "print(df.iloc[0].email)"
   ]
  },
  {
   "cell_type": "markdown",
   "metadata": {},
   "source": [
    "<h4>Clean Data:</h4>\n",
    "<p>NLP systems and machine learning models need to have clean data, so we need to clean and format our data a bit. To do so we</p>\n",
    "<ul>\n",
    "    <li>Remove Parentheses</li>  \n",
    "    <li>Remove Brackets</li>\n",
    "    <li>Fix Punctuation</li>\n",
    "    <li>Correct Currencies</li>\n",
    "</ul>"
   ]
  },
  {
   "cell_type": "code",
   "execution_count": 351,
   "metadata": {},
   "outputs": [
    {
     "data": {
      "text/html": [
       "<div>\n",
       "<style scoped>\n",
       "    .dataframe tbody tr th:only-of-type {\n",
       "        vertical-align: middle;\n",
       "    }\n",
       "\n",
       "    .dataframe tbody tr th {\n",
       "        vertical-align: top;\n",
       "    }\n",
       "\n",
       "    .dataframe thead th {\n",
       "        text-align: right;\n",
       "    }\n",
       "</style>\n",
       "<table border=\"1\" class=\"dataframe\">\n",
       "  <thead>\n",
       "    <tr style=\"text-align: right;\">\n",
       "      <th></th>\n",
       "      <th>email</th>\n",
       "      <th>amount</th>\n",
       "      <th>accountA</th>\n",
       "      <th>accountB</th>\n",
       "    </tr>\n",
       "  </thead>\n",
       "  <tbody>\n",
       "    <tr>\n",
       "      <th>0</th>\n",
       "      <td>Move money from account 1BJDL9S41QV to account...</td>\n",
       "      <td>8001681</td>\n",
       "      <td>1BJDL9S41QV</td>\n",
       "      <td>3C0</td>\n",
       "    </tr>\n",
       "    <tr>\n",
       "      <th>1</th>\n",
       "      <td>Hey Daniel Martin  Please move $ 2047210 from ...</td>\n",
       "      <td>2047210</td>\n",
       "      <td>EB3QNELBY93</td>\n",
       "      <td>RP0YYMFX</td>\n",
       "    </tr>\n",
       "    <tr>\n",
       "      <th>2</th>\n",
       "      <td>Hi this is Travis Holt  I need you to do the f...</td>\n",
       "      <td>5453887</td>\n",
       "      <td>CADW9R7G3</td>\n",
       "      <td>KBEUH0T4X063</td>\n",
       "    </tr>\n",
       "    <tr>\n",
       "      <th>3</th>\n",
       "      <td>Hey Margaret Anderson  Please move $ 4409559 f...</td>\n",
       "      <td>4409559</td>\n",
       "      <td>DIYICFSGC0CM</td>\n",
       "      <td>ZHKM</td>\n",
       "    </tr>\n",
       "    <tr>\n",
       "      <th>4</th>\n",
       "      <td>move $ 268762 to WGO7 from C8HN0RA2L4  Thanks</td>\n",
       "      <td>268762</td>\n",
       "      <td>C8HN0RA2L4</td>\n",
       "      <td>WGO7</td>\n",
       "    </tr>\n",
       "  </tbody>\n",
       "</table>\n",
       "</div>"
      ],
      "text/plain": [
       "                                               email   amount      accountA  \\\n",
       "0  Move money from account 1BJDL9S41QV to account...  8001681   1BJDL9S41QV   \n",
       "1  Hey Daniel Martin  Please move $ 2047210 from ...  2047210   EB3QNELBY93   \n",
       "2  Hi this is Travis Holt  I need you to do the f...  5453887     CADW9R7G3   \n",
       "3  Hey Margaret Anderson  Please move $ 4409559 f...  4409559  DIYICFSGC0CM   \n",
       "4      move $ 268762 to WGO7 from C8HN0RA2L4  Thanks   268762    C8HN0RA2L4   \n",
       "\n",
       "       accountB  \n",
       "0           3C0  \n",
       "1      RP0YYMFX  \n",
       "2  KBEUH0T4X063  \n",
       "3          ZHKM  \n",
       "4          WGO7  "
      ]
     },
     "execution_count": 351,
     "metadata": {},
     "output_type": "execute_result"
    }
   ],
   "source": [
    "def remove_parentheses(i): \n",
    "    return re.sub('[()\"\"“”{}<>]', '', i)\n",
    "\n",
    "def remove_brackets(i): \n",
    "    i = i.replace('[',\"\")\n",
    "    i = i.replace(']',\"\")\n",
    "    return i\n",
    "\n",
    "def fix_punct(i): \n",
    "    i = re.sub(r\"([a-z]+)([.()!])\", r'\\1 ',i)\n",
    "    i = i.replace(\".\", \" \")\n",
    "    i = i.replace(\"?\",\" \")\n",
    "    i = i.replace(\"!\", \" \")\n",
    "    i = i.strip()\n",
    "    return i\n",
    "\n",
    "def fix_curr(i):\n",
    "    txt = re.sub(r\"\\$([0-9+])\", \"$ \\\\1\", i)\n",
    "    #txt = re.sub(r\"([a-z]+)([0-9]+)\", r'\\1 \\2',i)\n",
    "    #txt2 = re.sub(r'([\\D]+)([\\d,]+)', r'\\1 \\2',i)\n",
    "    return txt \n",
    "\n",
    "df['email'] = df['email'].apply(lambda i: fix_punct(i))\n",
    "df['email'] = df['email'].apply(lambda i: remove_brackets(i))\n",
    "df['email'] = df['email'].apply(lambda i: remove_parentheses(i))\n",
    "df['email'] = df['email'].apply(lambda i: fix_curr(i))\n",
    "df['amount'] = df['amount'].apply(lambda i: str(i))\n",
    "df.head()"
   ]
  },
  {
   "cell_type": "markdown",
   "metadata": {},
   "source": [
    "<h4>Word Cloud</h4>\n",
    "<p>Let's explore the cleaned data by first checking out a word cloud. This will give us a visualization of the most popular words in our dataset</p>"
   ]
  },
  {
   "cell_type": "code",
   "execution_count": 352,
   "metadata": {},
   "outputs": [
    {
     "data": {
      "image/png": "[encoded data removed]",
      "text/plain": [
       "<Figure size 864x864 with 1 Axes>"
      ]
     },
     "metadata": {},
     "output_type": "display_data"
    }
   ],
   "source": [
    "stopwords = set(STOPWORDS)\n",
    "def show_wordcloud(data, title = None):\n",
    "    wordcloud = WordCloud(\n",
    "        background_color='white',\n",
    "        contour_color='steelblue',\n",
    "        stopwords=stopwords,\n",
    "        max_words=100,\n",
    "        max_font_size=40, \n",
    "        scale=3,\n",
    "        random_state=1 # chosen at random by flipping a coin; it was heads\n",
    "    ).generate(str(data))\n",
    "\n",
    "    fig = plt.figure(1, figsize=(12, 12))\n",
    "    plt.axis('off')\n",
    "    if title: \n",
    "        fig.suptitle(title, fontsize=20)\n",
    "        fig.subplots_adjust(top=2.3)\n",
    "\n",
    "    plt.imshow(wordcloud)\n",
    "    plt.show()\n",
    "\n",
    "show_wordcloud(df.email)"
   ]
  },
  {
   "cell_type": "markdown",
   "metadata": {},
   "source": [
    "<h4>Extract Sentences and Labels:</h4>\n",
    "<p>Now that we have our cleaned data, we need to pull out the individual emails and zip together a list of the labels. The labels will be the amount, accountA, and accountB. We will use these lists to generate our pre-features and later on our features.</p>"
   ]
  },
  {
   "cell_type": "code",
   "execution_count": 353,
   "metadata": {},
   "outputs": [
    {
     "name": "stdout",
     "output_type": "stream",
     "text": [
      "Sample Cleaned Sentence:\n",
      "Move money from account 1BJDL9S41QV to account 3C0 of the amount $ 8001681  Thank you\n",
      "\n",
      "Sample Labels:\n",
      "('8001681', '1BJDL9S41QV', '3C0')\n"
     ]
    }
   ],
   "source": [
    "sentences = df.email.values.tolist()\n",
    "labels = list(zip(df.amount.values.tolist(),df.accountA.values.tolist(),df.accountB.values.tolist()))\n",
    "print(\"Sample Cleaned Sentence:\")\n",
    "print(sentences[0])\n",
    "print(\"\\nSample Labels:\")\n",
    "print(labels[0])"
   ]
  },
  {
   "cell_type": "markdown",
   "metadata": {},
   "source": [
    "<h4>Obtain Pre-Feature Vector:</h4>\n",
    "<p>We now need to generate a pre-feature vector. We will loop over all of our data, tokenize the sentences, generate the part of speech for each token in the sentence, and append our labels. This constitutes our pre-feature vector.</p>"
   ]
  },
  {
   "cell_type": "code",
   "execution_count": 354,
   "metadata": {},
   "outputs": [
    {
     "name": "stdout",
     "output_type": "stream",
     "text": [
      "Sample Pre-Feature Vector:\n",
      "[('Move', 'NNP', 'O'), ('money', 'NN', 'O'), ('from', 'IN', 'O'), ('account', 'NN', 'O'), ('1BJDL9S41QV', 'CD', 'accountA'), ('to', 'TO', 'O'), ('account', 'VB', 'O'), ('3C0', 'CD', 'accountB'), ('of', 'IN', 'O'), ('the', 'DT', 'O'), ('amount', 'NN', 'O'), ('$', '$', 'O'), ('8001681', 'CD', 'amount'), ('Thank', 'NNP', 'O'), ('you', 'PRP', 'O')]\n"
     ]
    }
   ],
   "source": [
    "#sent_text = nltk.sent_tokenize(sentences[0:5]) # this gives us a list of sentences\n",
    "pre_feats = []\n",
    "\n",
    "# now loop over each sentence and tokenize it separately\n",
    "\n",
    "for sidx, s in enumerate(sentences):\n",
    "    sent_text = nltk.sent_tokenize(s) # this gives us a list of sentences\n",
    "    for idx,sentence in enumerate(sent_text):\n",
    "        sent_labels = []\n",
    "        all_info = []\n",
    "        tokenized_text = nltk.word_tokenize(sentence)\n",
    "        for j in tokenized_text: \n",
    "            if j == labels[sidx][0]: \n",
    "                sent_labels.append('amount')\n",
    "            elif j == labels[sidx][1]: \n",
    "                sent_labels.append('accountA')\n",
    "            elif j == labels[sidx][2]: \n",
    "                sent_labels.append('accountB')\n",
    "            else: \n",
    "                sent_labels.append('O')\n",
    "        tagged = nltk.pos_tag(tokenized_text)\n",
    "\n",
    "        for idx2, tag in enumerate(tagged): \n",
    "            l = (tag[0],tag[1],sent_labels[idx2])\n",
    "            all_info.append(l)\n",
    "        pre_feats.append(all_info)\n",
    "        \n",
    "print(\"Sample Pre-Feature Vector:\")\n",
    "print(pre_feats[0])"
   ]
  },
  {
   "cell_type": "markdown",
   "metadata": {},
   "source": [
    "<h4>Feature Vector:</h4>\n",
    "<p>For the conditional random field feature vector we will construct a special dictionary as a feature. To do this we will look at the word and the preceeding word. The following will be characteristics of the features:</p>\n",
    "<ul>\n",
    "    <li>The word</li>\n",
    "    <li>If it is lowercase</li>\n",
    "    <li>If it is uppercase</li>\n",
    "    <li>If it is a tile</li>\n",
    "    <li>If it is a digit</li>\n",
    "    <li>The POS tag</li>\n",
    "    <li>If the word is in the beginning of a sentence</li>\n",
    "    <li>If the word is in the end of a sentence</li>\n",
    "    <li>A bias parameter which we can configure but we will set it all to 1.0</li>\n",
    "</ul>"
   ]
  },
  {
   "cell_type": "code",
   "execution_count": 355,
   "metadata": {},
   "outputs": [],
   "source": [
    "def word2features(sent, i):\n",
    "    word = sent[i][0]\n",
    "    postag = sent[i][1]\n",
    "\n",
    "    features = {\n",
    "        'bias': 1.0,\n",
    "        'word.lower()': word.lower(),\n",
    "        'word[-3:]': word[-3:],\n",
    "        'word[-2:]': word[-2:],\n",
    "        'word.isupper()': word.isupper(),\n",
    "        'word.istitle()': word.istitle(),\n",
    "        'word.isdigit()': word.isdigit(),\n",
    "        'postag': postag,\n",
    "        'postag[:2]': postag[:2],\n",
    "    }\n",
    "    if i > 0:\n",
    "        word1 = sent[i-1][0]\n",
    "        postag1 = sent[i-1][1]\n",
    "        features.update({\n",
    "            '-1:word.lower()': word1.lower(),\n",
    "            '-1:word.istitle()': word1.istitle(),\n",
    "            '-1:word.isupper()': word1.isupper(),\n",
    "            '-1:postag': postag1,\n",
    "            '-1:postag[:2]': postag1[:2],\n",
    "        })\n",
    "    else:\n",
    "        features['BOS'] = True\n",
    "\n",
    "    if i < len(sent)-1:\n",
    "        word1 = sent[i+1][0]\n",
    "        postag1 = sent[i+1][1]\n",
    "        features.update({\n",
    "            '+1:word.lower()': word1.lower(),\n",
    "            '+1:word.istitle()': word1.istitle(),\n",
    "            '+1:word.isupper()': word1.isupper(),\n",
    "            '+1:postag': postag1,\n",
    "            '+1:postag[:2]': postag1[:2],\n",
    "        })\n",
    "    else:\n",
    "        features['EOS'] = True\n",
    "\n",
    "    return features\n",
    "\n",
    "def sent2features(sent):\n",
    "    return [word2features(sent, i) for i in range(len(sent))]\n",
    "\n",
    "def sent2labels(sent):\n",
    "    return [label for token, postag, label in sent]\n",
    "\n",
    "def sent2tokens(sent):\n",
    "    return [token for token, postag, label in sent]"
   ]
  },
  {
   "cell_type": "code",
   "execution_count": 356,
   "metadata": {},
   "outputs": [],
   "source": [
    "#Create input feature vector\n",
    "X = [sent2features(i) for i in pre_feats]\n",
    "\n",
    "#Format the target vector\n",
    "y = [sent2labels(i) for i in pre_feats]"
   ]
  },
  {
   "cell_type": "code",
   "execution_count": 357,
   "metadata": {},
   "outputs": [
    {
     "name": "stdout",
     "output_type": "stream",
     "text": [
      "Sample Feature Vector:\n",
      "[{'bias': 1.0, 'word.lower()': 'move', 'word[-3:]': 'ove', 'word[-2:]': 've', 'word.isupper()': False, 'word.istitle()': True, 'word.isdigit()': False, 'postag': 'NNP', 'postag[:2]': 'NN', 'BOS': True, '+1:word.lower()': 'money', '+1:word.istitle()': False, '+1:word.isupper()': False, '+1:postag': 'NN', '+1:postag[:2]': 'NN'}, {'bias': 1.0, 'word.lower()': 'money', 'word[-3:]': 'ney', 'word[-2:]': 'ey', 'word.isupper()': False, 'word.istitle()': False, 'word.isdigit()': False, 'postag': 'NN', 'postag[:2]': 'NN', '-1:word.lower()': 'move', '-1:word.istitle()': True, '-1:word.isupper()': False, '-1:postag': 'NNP', '-1:postag[:2]': 'NN', '+1:word.lower()': 'from', '+1:word.istitle()': False, '+1:word.isupper()': False, '+1:postag': 'IN', '+1:postag[:2]': 'IN'}, {'bias': 1.0, 'word.lower()': 'from', 'word[-3:]': 'rom', 'word[-2:]': 'om', 'word.isupper()': False, 'word.istitle()': False, 'word.isdigit()': False, 'postag': 'IN', 'postag[:2]': 'IN', '-1:word.lower()': 'money', '-1:word.istitle()': False, '-1:word.isupper()': False, '-1:postag': 'NN', '-1:postag[:2]': 'NN', '+1:word.lower()': 'account', '+1:word.istitle()': False, '+1:word.isupper()': False, '+1:postag': 'NN', '+1:postag[:2]': 'NN'}, {'bias': 1.0, 'word.lower()': 'account', 'word[-3:]': 'unt', 'word[-2:]': 'nt', 'word.isupper()': False, 'word.istitle()': False, 'word.isdigit()': False, 'postag': 'NN', 'postag[:2]': 'NN', '-1:word.lower()': 'from', '-1:word.istitle()': False, '-1:word.isupper()': False, '-1:postag': 'IN', '-1:postag[:2]': 'IN', '+1:word.lower()': '1bjdl9s41qv', '+1:word.istitle()': False, '+1:word.isupper()': True, '+1:postag': 'CD', '+1:postag[:2]': 'CD'}, {'bias': 1.0, 'word.lower()': '1bjdl9s41qv', 'word[-3:]': '1QV', 'word[-2:]': 'QV', 'word.isupper()': True, 'word.istitle()': False, 'word.isdigit()': False, 'postag': 'CD', 'postag[:2]': 'CD', '-1:word.lower()': 'account', '-1:word.istitle()': False, '-1:word.isupper()': False, '-1:postag': 'NN', '-1:postag[:2]': 'NN', '+1:word.lower()': 'to', '+1:word.istitle()': False, '+1:word.isupper()': False, '+1:postag': 'TO', '+1:postag[:2]': 'TO'}, {'bias': 1.0, 'word.lower()': 'to', 'word[-3:]': 'to', 'word[-2:]': 'to', 'word.isupper()': False, 'word.istitle()': False, 'word.isdigit()': False, 'postag': 'TO', 'postag[:2]': 'TO', '-1:word.lower()': '1bjdl9s41qv', '-1:word.istitle()': False, '-1:word.isupper()': True, '-1:postag': 'CD', '-1:postag[:2]': 'CD', '+1:word.lower()': 'account', '+1:word.istitle()': False, '+1:word.isupper()': False, '+1:postag': 'VB', '+1:postag[:2]': 'VB'}, {'bias': 1.0, 'word.lower()': 'account', 'word[-3:]': 'unt', 'word[-2:]': 'nt', 'word.isupper()': False, 'word.istitle()': False, 'word.isdigit()': False, 'postag': 'VB', 'postag[:2]': 'VB', '-1:word.lower()': 'to', '-1:word.istitle()': False, '-1:word.isupper()': False, '-1:postag': 'TO', '-1:postag[:2]': 'TO', '+1:word.lower()': '3c0', '+1:word.istitle()': True, '+1:word.isupper()': True, '+1:postag': 'CD', '+1:postag[:2]': 'CD'}, {'bias': 1.0, 'word.lower()': '3c0', 'word[-3:]': '3C0', 'word[-2:]': 'C0', 'word.isupper()': True, 'word.istitle()': True, 'word.isdigit()': False, 'postag': 'CD', 'postag[:2]': 'CD', '-1:word.lower()': 'account', '-1:word.istitle()': False, '-1:word.isupper()': False, '-1:postag': 'VB', '-1:postag[:2]': 'VB', '+1:word.lower()': 'of', '+1:word.istitle()': False, '+1:word.isupper()': False, '+1:postag': 'IN', '+1:postag[:2]': 'IN'}, {'bias': 1.0, 'word.lower()': 'of', 'word[-3:]': 'of', 'word[-2:]': 'of', 'word.isupper()': False, 'word.istitle()': False, 'word.isdigit()': False, 'postag': 'IN', 'postag[:2]': 'IN', '-1:word.lower()': '3c0', '-1:word.istitle()': True, '-1:word.isupper()': True, '-1:postag': 'CD', '-1:postag[:2]': 'CD', '+1:word.lower()': 'the', '+1:word.istitle()': False, '+1:word.isupper()': False, '+1:postag': 'DT', '+1:postag[:2]': 'DT'}, {'bias': 1.0, 'word.lower()': 'the', 'word[-3:]': 'the', 'word[-2:]': 'he', 'word.isupper()': False, 'word.istitle()': False, 'word.isdigit()': False, 'postag': 'DT', 'postag[:2]': 'DT', '-1:word.lower()': 'of', '-1:word.istitle()': False, '-1:word.isupper()': False, '-1:postag': 'IN', '-1:postag[:2]': 'IN', '+1:word.lower()': 'amount', '+1:word.istitle()': False, '+1:word.isupper()': False, '+1:postag': 'NN', '+1:postag[:2]': 'NN'}, {'bias': 1.0, 'word.lower()': 'amount', 'word[-3:]': 'unt', 'word[-2:]': 'nt', 'word.isupper()': False, 'word.istitle()': False, 'word.isdigit()': False, 'postag': 'NN', 'postag[:2]': 'NN', '-1:word.lower()': 'the', '-1:word.istitle()': False, '-1:word.isupper()': False, '-1:postag': 'DT', '-1:postag[:2]': 'DT', '+1:word.lower()': '$', '+1:word.istitle()': False, '+1:word.isupper()': False, '+1:postag': '$', '+1:postag[:2]': '$'}, {'bias': 1.0, 'word.lower()': '$', 'word[-3:]': '$', 'word[-2:]': '$', 'word.isupper()': False, 'word.istitle()': False, 'word.isdigit()': False, 'postag': '$', 'postag[:2]': '$', '-1:word.lower()': 'amount', '-1:word.istitle()': False, '-1:word.isupper()': False, '-1:postag': 'NN', '-1:postag[:2]': 'NN', '+1:word.lower()': '8001681', '+1:word.istitle()': False, '+1:word.isupper()': False, '+1:postag': 'CD', '+1:postag[:2]': 'CD'}, {'bias': 1.0, 'word.lower()': '8001681', 'word[-3:]': '681', 'word[-2:]': '81', 'word.isupper()': False, 'word.istitle()': False, 'word.isdigit()': True, 'postag': 'CD', 'postag[:2]': 'CD', '-1:word.lower()': '$', '-1:word.istitle()': False, '-1:word.isupper()': False, '-1:postag': '$', '-1:postag[:2]': '$', '+1:word.lower()': 'thank', '+1:word.istitle()': True, '+1:word.isupper()': False, '+1:postag': 'NNP', '+1:postag[:2]': 'NN'}, {'bias': 1.0, 'word.lower()': 'thank', 'word[-3:]': 'ank', 'word[-2:]': 'nk', 'word.isupper()': False, 'word.istitle()': True, 'word.isdigit()': False, 'postag': 'NNP', 'postag[:2]': 'NN', '-1:word.lower()': '8001681', '-1:word.istitle()': False, '-1:word.isupper()': False, '-1:postag': 'CD', '-1:postag[:2]': 'CD', '+1:word.lower()': 'you', '+1:word.istitle()': False, '+1:word.isupper()': False, '+1:postag': 'PRP', '+1:postag[:2]': 'PR'}, {'bias': 1.0, 'word.lower()': 'you', 'word[-3:]': 'you', 'word[-2:]': 'ou', 'word.isupper()': False, 'word.istitle()': False, 'word.isdigit()': False, 'postag': 'PRP', 'postag[:2]': 'PR', '-1:word.lower()': 'thank', '-1:word.istitle()': True, '-1:word.isupper()': False, '-1:postag': 'NNP', '-1:postag[:2]': 'NN', 'EOS': True}]\n",
      "\n",
      "Sample Feature Label\n",
      "['O', 'O', 'O', 'O', 'accountA', 'O', 'O', 'accountB', 'O', 'O', 'O', 'O', 'amount', 'O', 'O']\n"
     ]
    }
   ],
   "source": [
    "print(\"Sample Feature Vector:\")\n",
    "print(X[0])\n",
    "print(\"\\nSample Feature Label\")\n",
    "print(y[0])"
   ]
  },
  {
   "cell_type": "markdown",
   "metadata": {},
   "source": [
    "<h4>Train/Test Split:</h4>\n",
    "<p>We now need to splitt our data into a training and testing set so we can properly evaluate our machine learning model.</p>"
   ]
  },
  {
   "cell_type": "code",
   "execution_count": 358,
   "metadata": {},
   "outputs": [],
   "source": [
    "X_train, X_test, y_train, y_test = train_test_split(X, y, test_size=0.10, random_state=42)"
   ]
  },
  {
   "cell_type": "markdown",
   "metadata": {},
   "source": [
    "<h4>CRF Model:</h4>\n",
    "<p>We now create our CRF model. The model has the following tuneable parameters:</p>\n",
    "<ul>\n",
    "    <li>Algorithm</li>\n",
    "    <li>c1</li>\n",
    "    <li>c2</li>\n",
    "    <li>Max Iterations</li>\n",
    "    <li>All Possible Transitions</li>\n",
    "</ul>"
   ]
  },
  {
   "cell_type": "code",
   "execution_count": 359,
   "metadata": {},
   "outputs": [],
   "source": [
    "#Create the model\n",
    "crf = skCRF(algorithm='lbfgs',c1=0.1,c2=0.1,max_iterations=100,all_possible_transitions=False)"
   ]
  },
  {
   "cell_type": "markdown",
   "metadata": {},
   "source": [
    "<h4>Train CRF Model:</h4>\n",
    "<p>We now train the CRF model with our training data.</p>"
   ]
  },
  {
   "cell_type": "code",
   "execution_count": 360,
   "metadata": {},
   "outputs": [
    {
     "data": {
      "text/plain": [
       "CRF(algorithm='lbfgs', all_possible_states=None,\n",
       "  all_possible_transitions=False, averaging=None, c=None, c1=0.1, c2=0.1,\n",
       "  calibration_candidates=None, calibration_eta=None,\n",
       "  calibration_max_trials=None, calibration_rate=None,\n",
       "  calibration_samples=None, delta=None, epsilon=None, error_sensitive=None,\n",
       "  gamma=None, keep_tempfiles=None, linesearch=None, max_iterations=100,\n",
       "  max_linesearch=None, min_freq=None, model_filename=None,\n",
       "  num_memories=None, pa_type=None, period=None, trainer_cls=None,\n",
       "  variance=None, verbose=False)"
      ]
     },
     "execution_count": 360,
     "metadata": {},
     "output_type": "execute_result"
    }
   ],
   "source": [
    "crf.fit(X_train,y_train)"
   ]
  },
  {
   "cell_type": "markdown",
   "metadata": {},
   "source": [
    "<h4>Model Performance:</h4>\n",
    "<p>We now look at the test set predictions and the preformance metrics for our CRF model.</p>"
   ]
  },
  {
   "cell_type": "code",
   "execution_count": 361,
   "metadata": {},
   "outputs": [
    {
     "name": "stdout",
     "output_type": "stream",
     "text": [
      "Exact Accuracy:  91.5 %\n",
      "\n",
      "Flat Classification Report:\n",
      "               precision    recall  f1-score   support\n",
      "\n",
      "           O       1.00      1.00      1.00      3177\n",
      "    accountA       0.98      0.93      0.95       178\n",
      "    accountB       0.93      0.98      0.96       188\n",
      "      amount       1.00      1.00      1.00       194\n",
      "\n",
      "   micro avg       1.00      1.00      1.00      3737\n",
      "   macro avg       0.98      0.98      0.98      3737\n",
      "weighted avg       1.00      1.00      1.00      3737\n",
      "\n"
     ]
    }
   ],
   "source": [
    "def get_exact_accuracy(pred,y_test):\n",
    "    score = 0\n",
    "    for i,j in enumerate(y_test): \n",
    "        if pred[i] == j: \n",
    "            score += 1 \n",
    "    return round((score*1.0)/len(y_test)*100,2)\n",
    "\n",
    "def get_flat_classification_report(pred,y_test): \n",
    "    report = flat_classification_report(y_pred=pred, y_true=y_test)\n",
    "    return report\n",
    "\n",
    "pred = crf.predict(X_test)\n",
    "print(\"Exact Accuracy: \",get_exact_accuracy(pred,y_test),\"%\\n\")\n",
    "print(\"Flat Classification Report:\\n\",get_flat_classification_report(pred,y_test))"
   ]
  },
  {
   "cell_type": "markdown",
   "metadata": {},
   "source": [
    "<h4>Sample Test Prediction Output:</h4>\n",
    "<p>We can now look at the labels of our test predictions. Note, the output is not clean and nice so we will write a class to show the predictions.</p>"
   ]
  },
  {
   "cell_type": "code",
   "execution_count": 362,
   "metadata": {},
   "outputs": [
    {
     "name": "stdout",
     "output_type": "stream",
     "text": [
      "[[{'bias': 1.0, 'word.lower()': 'move', 'word[-3:]': 'ove', 'word[-2:]': 've', 'word.isupper()': False, 'word.istitle()': False, 'word.isdigit()': False, 'postag': 'VB', 'postag[:2]': 'VB', 'BOS': True, '+1:word.lower()': '$', '+1:word.istitle()': False, '+1:word.isupper()': False, '+1:postag': '$', '+1:postag[:2]': '$'}, {'bias': 1.0, 'word.lower()': '$', 'word[-3:]': '$', 'word[-2:]': '$', 'word.isupper()': False, 'word.istitle()': False, 'word.isdigit()': False, 'postag': '$', 'postag[:2]': '$', '-1:word.lower()': 'move', '-1:word.istitle()': False, '-1:word.isupper()': False, '-1:postag': 'VB', '-1:postag[:2]': 'VB', '+1:word.lower()': '6463451', '+1:word.istitle()': False, '+1:word.isupper()': False, '+1:postag': 'CD', '+1:postag[:2]': 'CD'}, {'bias': 1.0, 'word.lower()': '6463451', 'word[-3:]': '451', 'word[-2:]': '51', 'word.isupper()': False, 'word.istitle()': False, 'word.isdigit()': True, 'postag': 'CD', 'postag[:2]': 'CD', '-1:word.lower()': '$', '-1:word.istitle()': False, '-1:word.isupper()': False, '-1:postag': '$', '-1:postag[:2]': '$', '+1:word.lower()': 'to', '+1:word.istitle()': False, '+1:word.isupper()': False, '+1:postag': 'TO', '+1:postag[:2]': 'TO'}, {'bias': 1.0, 'word.lower()': 'to', 'word[-3:]': 'to', 'word[-2:]': 'to', 'word.isupper()': False, 'word.istitle()': False, 'word.isdigit()': False, 'postag': 'TO', 'postag[:2]': 'TO', '-1:word.lower()': '6463451', '-1:word.istitle()': False, '-1:word.isupper()': False, '-1:postag': 'CD', '-1:postag[:2]': 'CD', '+1:word.lower()': '6mr9', '+1:word.istitle()': False, '+1:word.isupper()': True, '+1:postag': 'CD', '+1:postag[:2]': 'CD'}, {'bias': 1.0, 'word.lower()': '6mr9', 'word[-3:]': 'MR9', 'word[-2:]': 'R9', 'word.isupper()': True, 'word.istitle()': False, 'word.isdigit()': False, 'postag': 'CD', 'postag[:2]': 'CD', '-1:word.lower()': 'to', '-1:word.istitle()': False, '-1:word.isupper()': False, '-1:postag': 'TO', '-1:postag[:2]': 'TO', '+1:word.lower()': 'from', '+1:word.istitle()': False, '+1:word.isupper()': False, '+1:postag': 'IN', '+1:postag[:2]': 'IN'}, {'bias': 1.0, 'word.lower()': 'from', 'word[-3:]': 'rom', 'word[-2:]': 'om', 'word.isupper()': False, 'word.istitle()': False, 'word.isdigit()': False, 'postag': 'IN', 'postag[:2]': 'IN', '-1:word.lower()': '6mr9', '-1:word.istitle()': False, '-1:word.isupper()': True, '-1:postag': 'CD', '-1:postag[:2]': 'CD', '+1:word.lower()': 'xnv6n7ponp', '+1:word.istitle()': False, '+1:word.isupper()': True, '+1:postag': 'JJ', '+1:postag[:2]': 'JJ'}, {'bias': 1.0, 'word.lower()': 'xnv6n7ponp', 'word[-3:]': 'ONP', 'word[-2:]': 'NP', 'word.isupper()': True, 'word.istitle()': False, 'word.isdigit()': False, 'postag': 'JJ', 'postag[:2]': 'JJ', '-1:word.lower()': 'from', '-1:word.istitle()': False, '-1:word.isupper()': False, '-1:postag': 'IN', '-1:postag[:2]': 'IN', '+1:word.lower()': 'thanks', '+1:word.istitle()': True, '+1:word.isupper()': False, '+1:postag': 'NNS', '+1:postag[:2]': 'NN'}, {'bias': 1.0, 'word.lower()': 'thanks', 'word[-3:]': 'nks', 'word[-2:]': 'ks', 'word.isupper()': False, 'word.istitle()': True, 'word.isdigit()': False, 'postag': 'NNS', 'postag[:2]': 'NN', '-1:word.lower()': 'xnv6n7ponp', '-1:word.istitle()': False, '-1:word.isupper()': True, '-1:postag': 'JJ', '-1:postag[:2]': 'JJ', 'EOS': True}]]\n",
      "\n",
      "Pred:  [['O', 'O', 'amount', 'O', 'accountB', 'O', 'accountA', 'O']]\n",
      "Actual:  [['O', 'O', 'amount', 'O', 'accountB', 'O', 'accountA', 'O']]\n"
     ]
    }
   ],
   "source": [
    "print(X_test[5:6])\n",
    "pred = crf.predict(X_test[5:6])\n",
    "print(\"\\nPred: \",pred)\n",
    "print(\"Actual: \",y_test[5:6])"
   ]
  },
  {
   "cell_type": "markdown",
   "metadata": {},
   "source": [
    "<h4>Save Model:</h4>\n",
    "<p>We now save our model so we can load it and use it in the future.</p>"
   ]
  },
  {
   "cell_type": "code",
   "execution_count": 363,
   "metadata": {},
   "outputs": [],
   "source": [
    "filename = 'crf_model_1.pkl'\n",
    "_ = joblib.dump(crf,filename)"
   ]
  },
  {
   "cell_type": "markdown",
   "metadata": {},
   "source": [
    "<h4>Query Class:</h4>\n",
    "<p>We now write a class that loads our model and handles the predictions. It also displays the output in a cleaner manner for a sample query.</p>"
   ]
  },
  {
   "cell_type": "code",
   "execution_count": 364,
   "metadata": {},
   "outputs": [],
   "source": [
    "class CRF_NER: \n",
    "    def __init__(self,model_filepath): \n",
    "        self.model_filepath = model_filepath\n",
    "    def load_model(self): \n",
    "        self.crf = joblib.load(self.model_filepath)\n",
    "        \n",
    "    def query(self,sentence): \n",
    "        original_sentence = sentence\n",
    "        sentence = re.sub(r\"([a-z]+)([.()!])\", r'\\1 ',sentence)\n",
    "        sentence = sentence.replace(\".\", \" \")\n",
    "        sentence = sentence.replace(\"?\",\" \")\n",
    "        sentence = sentence.replace(\"!\", \" \")\n",
    "        sentence = sentence.replace(\",\", \"\")\n",
    "        sentence = sentence.strip()\n",
    "        sentence = sentence.replace('[',\"\")\n",
    "        sentence = sentence.replace(']',\"\")\n",
    "        sentence = re.sub('[()\"\"“”{}<>]', '', sentence)\n",
    "        sentence = re.sub(r\"\\$([0-9+])\", \"$ \\\\1\", sentence)\n",
    "        \n",
    "        sent_text = nltk.sent_tokenize(sentence)\n",
    "        tokenized_text = nltk.word_tokenize(sentence)\n",
    "        tagged = nltk.pos_tag(tokenized_text)\n",
    "\n",
    "        def word2features(sent, i):\n",
    "            word = sent[i][0]\n",
    "            postag = sent[i][1]\n",
    "\n",
    "            features = {\n",
    "                'bias': 1.0,\n",
    "                'word.lower()': word.lower(),\n",
    "                'word[-3:]': word[-3:],\n",
    "                'word[-2:]': word[-2:],\n",
    "                'word.isupper()': word.isupper(),\n",
    "                'word.istitle()': word.istitle(),\n",
    "                'word.isdigit()': word.isdigit(),\n",
    "                'postag': postag,\n",
    "                'postag[:2]': postag[:2],\n",
    "            }\n",
    "            if i > 0:\n",
    "                word1 = sent[i-1][0]\n",
    "                postag1 = sent[i-1][1]\n",
    "                features.update({\n",
    "                    '-1:word.lower()': word1.lower(),\n",
    "                    '-1:word.istitle()': word1.istitle(),\n",
    "                    '-1:word.isupper()': word1.isupper(),\n",
    "                    '-1:postag': postag1,\n",
    "                    '-1:postag[:2]': postag1[:2],\n",
    "                })\n",
    "            else:\n",
    "                features['BOS'] = True\n",
    "\n",
    "            if i < len(sent)-1:\n",
    "                word1 = sent[i+1][0]\n",
    "                postag1 = sent[i+1][1]\n",
    "                features.update({\n",
    "                    '+1:word.lower()': word1.lower(),\n",
    "                    '+1:word.istitle()': word1.istitle(),\n",
    "                    '+1:word.isupper()': word1.isupper(),\n",
    "                    '+1:postag': postag1,\n",
    "                    '+1:postag[:2]': postag1[:2],\n",
    "                })\n",
    "            else:\n",
    "                features['EOS'] = True\n",
    "\n",
    "            return features\n",
    "\n",
    "        def sent2features(sent):\n",
    "            return [word2features(sent, i) for i in range(len(sent))]\n",
    "\n",
    "        def sent2labels(sent):\n",
    "            return [label for token, postag, label in sent]\n",
    "\n",
    "        def sent2tokens(sent):\n",
    "            return [token for token, postag, label in sent]\n",
    "        \n",
    "        X = [sent2features(i) for i in [tagged]]\n",
    "        \n",
    "        pred = self.crf.predict(X)\n",
    "        p = pred[0]\n",
    "        result = {}\n",
    "        for idx,i in enumerate(p): \n",
    "            if i != 'O': \n",
    "                result[i] = tagged[idx][0]    \n",
    "                \n",
    "        keys = list(result.keys())\n",
    "        vals = list(result.values())\n",
    "        vals\n",
    "        for idx, i in enumerate(keys): \n",
    "            if i == 'amount': \n",
    "                insert_str_0 = \"<span style='color:blue'>\"\n",
    "                insert_str_1 = \"</span>\" \n",
    "                sent_idx = original_sentence.find(vals[idx])\n",
    "                original_sentence = original_sentence[:sent_idx] + insert_str_0 + original_sentence[sent_idx:sent_idx+len(vals[idx])]+insert_str_1+original_sentence[sent_idx+len(vals[idx]):]\n",
    "            elif i == 'accountA': \n",
    "                insert_str_0 = \"<span style='color:red'>\"\n",
    "                insert_str_1 = \"</span>\" \n",
    "                sent_idx = original_sentence.find(vals[idx])\n",
    "                original_sentence = original_sentence[:sent_idx] + insert_str_0 + original_sentence[sent_idx:sent_idx+len(vals[idx])]+insert_str_1+original_sentence[sent_idx+len(vals[idx]):]\n",
    "\n",
    "            elif i == 'accountB':\n",
    "                insert_str_0 = \"<span style='color:orange'>\"\n",
    "                insert_str_1 = \"</span>\" \n",
    "                sent_idx = original_sentence.find(vals[idx])\n",
    "                original_sentence = original_sentence[:sent_idx] + insert_str_0 + original_sentence[sent_idx:sent_idx+len(vals[idx])]+insert_str_1+original_sentence[sent_idx+len(vals[idx]):]\n",
    "\n",
    "        printmd(original_sentence)\n",
    "        return result      "
   ]
  },
  {
   "cell_type": "markdown",
   "metadata": {},
   "source": [
    "<h4>Instantiate Class:</h4>\n",
    "<p>We instantiate the class with the model filepath and load the model.</p>"
   ]
  },
  {
   "cell_type": "code",
   "execution_count": 365,
   "metadata": {},
   "outputs": [],
   "source": [
    "c = CRF_NER(filename)\n",
    "c.load_model()"
   ]
  },
  {
   "cell_type": "markdown",
   "metadata": {},
   "source": [
    "<h4>Sample Querys:</h4>"
   ]
  },
  {
   "cell_type": "code",
   "execution_count": 366,
   "metadata": {},
   "outputs": [
    {
     "data": {
      "text/markdown": [
       "Hello Jeanette, I need you to Please transfer $<span style='color:blue'>600</span> from account <span style='color:red'>TRD45</span> to account <span style='color:orange'>XSDS</span>. Thanks so much for all of your help."
      ],
      "text/plain": [
       "<IPython.core.display.Markdown object>"
      ]
     },
     "metadata": {},
     "output_type": "display_data"
    },
    {
     "data": {
      "text/plain": [
       "{'amount': '600', 'accountA': 'TRD45', 'accountB': 'XSDS'}"
      ]
     },
     "execution_count": 366,
     "metadata": {},
     "output_type": "execute_result"
    }
   ],
   "source": [
    "query0 = 'Hello Jeanette, I need you to Please transfer $600 from account TRD45 to account XSDS. Thanks so much for all of your help.'\n",
    "c.query(query0)"
   ]
  },
  {
   "cell_type": "code",
   "execution_count": 367,
   "metadata": {},
   "outputs": [
    {
     "data": {
      "text/markdown": [
       "Hey Chris my friend, please move $<span style='color:blue'>500233</span> to account <span style='color:orange'>X15523</span> from account <span style='color:red'>L115</span>! Thanks :D"
      ],
      "text/plain": [
       "<IPython.core.display.Markdown object>"
      ]
     },
     "metadata": {},
     "output_type": "display_data"
    },
    {
     "data": {
      "text/plain": [
       "{'amount': '500233', 'accountB': 'X15523', 'accountA': 'L115'}"
      ]
     },
     "execution_count": 367,
     "metadata": {},
     "output_type": "execute_result"
    }
   ],
   "source": [
    "query1 = 'Hey Chris my friend, please move $500233 to account X15523 from account L115! Thanks :D'\n",
    "c.query(query1)"
   ]
  },
  {
   "cell_type": "code",
   "execution_count": 370,
   "metadata": {},
   "outputs": [
    {
     "data": {
      "text/markdown": [
       "send $<span style='color:blue'>225000</span> to account <span style='color:orange'>X443</span> from <span style='color:red'>LAS223</span>."
      ],
      "text/plain": [
       "<IPython.core.display.Markdown object>"
      ]
     },
     "metadata": {},
     "output_type": "display_data"
    },
    {
     "data": {
      "text/plain": [
       "{'amount': '225000', 'accountB': 'X443', 'accountA': 'LAS223'}"
      ]
     },
     "execution_count": 370,
     "metadata": {},
     "output_type": "execute_result"
    }
   ],
   "source": [
    "query3 = \"send $225000 to account X443 from LAS223.\"\n",
    "c.query(query3)"
   ]
  },
  {
   "cell_type": "code",
   "execution_count": 378,
   "metadata": {},
   "outputs": [
    {
     "data": {
      "text/markdown": [
       "Jeff, we have an immediate transfer we need to have done. Please send from account <span style='color:red'>LL544</span> and transfer $<span style='color:blue'>7200</span> to account <span style='color:orange'>MSA122</span>. Best Regards, Tom"
      ],
      "text/plain": [
       "<IPython.core.display.Markdown object>"
      ]
     },
     "metadata": {},
     "output_type": "display_data"
    },
    {
     "data": {
      "text/plain": [
       "{'accountA': 'LL544', 'amount': '7200', 'accountB': 'MSA122'}"
      ]
     },
     "execution_count": 378,
     "metadata": {},
     "output_type": "execute_result"
    }
   ],
   "source": [
    "query4 = \"Jeff, we have an immediate transfer we need to have done. Please send from account LL544 and transfer $7200 to account MSA122. Best Regards, Tom\"\n",
    "c.query(query4)"
   ]
  },
  {
   "cell_type": "code",
   "execution_count": 391,
   "metadata": {},
   "outputs": [
    {
     "data": {
      "text/plain": [
       "1307"
      ]
     },
     "execution_count": 391,
     "metadata": {},
     "output_type": "execute_result"
    }
   ],
   "source": [
    "crf.num_attributes_"
   ]
  },
  {
   "cell_type": "markdown",
   "metadata": {},
   "source": [
    "<h4>Authentication Token:</h4>\n",
    "<p>Now that we can return the fields to POST we need to obtain our authentication token. We have a csv called config.csv which has our application id, access key, reply url, token endpoint, and base url. The following class allows us to authenticate:</p>"
   ]
  },
  {
   "cell_type": "code",
   "execution_count": 372,
   "metadata": {},
   "outputs": [
    {
     "name": "stdout",
     "output_type": "stream",
     "text": [
      "<Response [200]>\n",
      "200\n",
      "\n",
      "Token:\n",
      " eyJhbGciOiJSUzI1NiIsInR5cCIgOiAiSldUIiwia2lkIiA6ICJEOHFfVGtDSUhYZV9HRzh4eWJ3WXdlQlRkS1hwLXlfMnpFTHdHeXVKS1dVIn0.eyJqdGkiOiJkMTQ1NGQ2NC04OTkzLTRhNjItYjI3NC00MzEwMzEzZDA4MDEiLCJleHAiOjE1NTc1MDY5NjQsIm5iZiI6MCwiaWF0IjoxNTU3NTAzMzY0LCJpc3MiOiJodHRwczovL2FwaS5wcmVwcm9kLmZ1c2lvbmZhYnJpYy5jbG91ZC9sb2dpbi92MSIsInN1YiI6ImZiZjMzMzY5LTdiOWUtNDIxZi1iY2NhLTE0MGRlNzUwMzRjMCIsInR5cCI6IkJlYXJlciIsImF6cCI6IjA5MDMxZDMwLWIyMDMtNDczZS04ZDllLTUyNThmZjc2Mzc2NCIsImF1dGhfdGltZSI6MCwic2Vzc2lvbl9zdGF0ZSI6ImI0ZjczNzgyLTdmMDYtNDY4ZC04YTMwLTNiMzVhOTI4ZTQxYiIsImFjciI6IjEiLCJzY29wZSI6InBheW1lbnQtcGF5bWVudC1yZXF1ZXN0LXYxLTUzZjI2N2U2LWM3YmUtMTFlOC1hOGQ1LWYyODAxZjFiOWZkMSBwYXltZW50cy1jYWxlbmRhci1ub24td29ya2luZy1kYXlzLXYxLWYzOWMwNjhiLTE1YzgtNDc4Ny04MDEyLWFiMzM3NzIyZjlkMyBwYXltZW50LXV0aWwtY2xlYXJpbmctc2NoZW1lcy12MS05N2FkMTNjMy1kMzQyLTQ3YWYtYWYwZC0wYjNiMjM4ODcwZDAgcGF5bWVudC1wYXltZW50LXJlcXVlc3QtaXNvLXYxLWE2YzA2NjUwLTlkYTQtNGNhYi1hYjA5LWUwZTQ3YmNkYWNmOCBwYXltZW50LWludGVybmF0aW9uYWwtdjEtNjM3M2IyMGMtZTVlZC00MzI4LTgyOTAtNDg4N2ZkZTE5MzBkIHBheW1lbnRzLW9wZXJhdGlvbnMtcGF5bWVudC1zZWFyY2gtdjEtMGIxZDY4NjQtMTRhNy0xMWU5LWFiMTQtZDY2M2JkODczZDkzIHBheW1lbnQtaXNvLXYxLTEzNzRCM0FCLTZFMkMtNDI0Ri04ODNBLTM1REJGOEY0RTVDRCBwYXltZW50cy1tZW1iZXJzaGlwLXZhbGlkYXRpb24tdjEtMDcxNmM1ZmYtYjQzMi00NDcyLWE1ZjYtZTZhNWU4MGUwMWFjIHBheW1lbnQtdXRpbC11ZXRyLXYxLWY4MDhlNzI1LWVjYTgtNDMzYy05ZjBhLWQyNWM5OGMyYmVmYyByZWFsLXRpbWUtcGF5bWVudHMtaW5pdGlhdGlvbi12MS0wZjQ3OTc4Yi03MWJjLTQ4NWItOWM3YS1mZDhhYmZmYTYwZDMgcGF5bWVudC11dGlsLWZlZS12MS1iZjdiZDFkMS04ODAwLTQ2ODctYWNmZC0xYTIzMjk4ZjRjNDcgcmVzcG9uc2UtZm9yLXJlcXVlc3Qtb2YtcGF5bWVudC12MS04MGQwYmIwMC05NmMwLTRiMzMtOWMzNi1kNTkzYTBiNjFiMTkiLCJhcHAiOiIwOTAzMWQzMC1iMjAzLTQ3M2UtOGQ5ZS01MjU4ZmY3NjM3NjQiLCJ0ZW5hbnQiOiJzYW5kYm94IiwidXNlcm5hbWUiOiJzZXJ2aWNlLWFjY291bnQtMDkwMzFkMzAtYjIwMy00NzNlLThkOWUtNTI1OGZmNzYzNzY0In0.Z0K52qipn4lJlITq10ZBEFCS08s6ZwugkOAgo0E7NLVFQTsAVo2ERM2UTCoDSsxuE0kxrs5mK0-bM00agNOP7bk6w1rSqLB17EvjsTajeatJrFisUOhb5ewXlCAiXLXesIDLrM1ce4gJKMDb_RUMOCZkVJ6wB6d4ZsgTSWQ52ldNroO94Tfrz0BCEW_kqCyx7tBj-2PjB_cf8AaKxKlhlgAXJK7Y7auSelY3M8IQhZlRXDq7iRq9IhThipBmmgTjKxPbWQAEM7NAPCRxOqAaD9_-bR7JGbgTvJ8dlolKX2-l1-QUj0ppUbFEfxQrSP4Gl6JAKORMaS4H4zjiVQtv-Q\n"
     ]
    }
   ],
   "source": [
    "class authenticate: \n",
    "    def __init__(self,config_file): \n",
    "        self.df = pd.read_csv(config_file)\n",
    "        self.client_id = self.df['application_id'].values[0]\n",
    "        self.client_secret = self.df['access_key'].values[0]\n",
    "        self.reply_url = self.df['reply_url'].values[0]\n",
    "        self.token_endpoint = self.df['token_endpoint'].values[0]\n",
    "        self.base_url = self.df['base_url'].values[0]\n",
    "        \n",
    "    def get_token(self): \n",
    "        headers = {\n",
    "        }\n",
    "        data = {\n",
    "            'grant_type'     : 'client_credentials',\n",
    "            'client_id'      : self.client_id,\n",
    "            'client_secret'  : self.client_secret\n",
    "        }\n",
    "        response = requests.request('POST', self.token_endpoint, data=data, headers=headers)\n",
    "        print(response)\n",
    "        cleaned_response = response.text.replace(':null', ':\"null\"')\n",
    "        response_dict = eval(cleaned_response)\n",
    "        token = response_dict['access_token']\n",
    "        return response, token\n",
    "    \n",
    "a = authenticate('config.csv')\n",
    "response,token = a.get_token()\n",
    "print(response.status_code)\n",
    "print(\"\\nToken:\\n\",token)"
   ]
  },
  {
   "cell_type": "markdown",
   "metadata": {},
   "source": [
    "<h4>Sample Post:</h4>\n",
    "<p>Since we are just sending the debitor, creditor, and amount, we can directly modify this sample instead of recreating it each time.</p>"
   ]
  },
  {
   "cell_type": "code",
   "execution_count": 343,
   "metadata": {},
   "outputs": [],
   "source": [
    "sample_post = {\n",
    "  \"initiatingParty\": \"DHILDHILXXX\",\n",
    "  \"paymentInformationId\": \"MMSTADV52788051\",\n",
    "  \"paymentMethod\": \"TRF\",\n",
    "  \"requestedExecutionDate\": \"2018-08-28\",\n",
    "  \"paymentIdentification\": {\n",
    "    \"instructionIdentification\": \"MMSTADV52788051\",\n",
    "    \"endToEndIdentification\": \"MMSTADV52788051\"\n",
    "  },\n",
    "  \"instructionPriority\": \"CRED\",\n",
    "  \"chargeBearer\": \"FollowingServiceLevel\",\n",
    "  \"instructedAmount\": {\n",
    "    \"amount\": 100.11,\n",
    "    \"currency\": \"ILS\"\n",
    "  },\n",
    "  \"PreCalculatedCharges\": {\n",
    "    \"amount\": 100,\n",
    "    \"currency\": \"USD\",\n",
    "    \"suppressAdditionalCharges\": True\n",
    "  },\n",
    "  \"debitorAgent\": {\n",
    "    \"identification\": \"EATCIL2WXXX\"\n",
    "  },\n",
    "  \"debtorAccountId\": {\n",
    "    \"identificationType\": \"PrimaryAccountNumber\",\n",
    "    \"identification\": \"8888888888\",\n",
    "    \"name\": \"Name\",\n",
    "    \"currency\": \"USD\"\n",
    "  },\n",
    "  \"creditor\": {\n",
    "    \"name\": \"Name\",\n",
    "    \"postalAddress\": {\n",
    "      \"addressLine\": [\n",
    "        \"68 Rue de Charenton\"\n",
    "      ],\n",
    "      \"street\": \"Street Name\",\n",
    "      \"buildingNumber\": 14,\n",
    "      \"postalCode\": 70018,\n",
    "      \"city\": \"City\",\n",
    "      \"country\": \"SG\"\n",
    "    }\n",
    "  },\n",
    "  \"creditorAgent\": {\n",
    "    \"identification\": \"WPACIL2WXXX\"\n",
    "  },\n",
    "  \"creditorAccountId\": {\n",
    "    \"identificationType\": \"PrimaryAccountNumber\",\n",
    "    \"identification\": \"999999999\"\n",
    "  },\n",
    "  \"relatedRemittanceInformation\": {\n",
    "    \"remittanceIdentification\": \"RmtId1234\",\n",
    "    \"remittanceLocationMethod\": \"URID\",\n",
    "    \"remittanceLocationElectronicAddress\": \"Location\"\n",
    "  },\n",
    "  \"remittanceInformationUnstructured\": \"RmtInf1234\"\n",
    "}"
   ]
  },
  {
   "cell_type": "markdown",
   "metadata": {},
   "source": [
    "<h4>POST request to Payments API:</h4>\n",
    "<p>We can use the following class to make a POST request to the payment-initiation API.</p>"
   ]
  },
  {
   "cell_type": "code",
   "execution_count": 373,
   "metadata": {},
   "outputs": [],
   "source": [
    "class payments_api: \n",
    "    def __init__(self,token,method,payload,additional_headers={},params = None): \n",
    "        self.token = token \n",
    "        self.endpoint_type = method\n",
    "        self.base_url = 'https://api.preprod.fusionfabric.cloud/payment/payment-initiation/v1/credit-transfer/international/initiate'\n",
    "        self.additional_headers = additional_headers\n",
    "        self.params = params\n",
    "    \n",
    "    def connect_endpoint(self):\n",
    "        self.url = self.base_url \n",
    "        headers = {\n",
    "            'Authorization': 'Bearer ' + self.token,\n",
    "            'Content-Type' : 'application/json'\n",
    "            }\n",
    "        for key in self.additional_headers.keys():\n",
    "            headers[key] = self.additional_headers[key]\n",
    "        stringified_payload = json.dumps(payload)\n",
    "        response = requests.request(self.endpoint_type, self.url, params=self.params, data=stringified_payload,headers=headers)\n",
    "        return response"
   ]
  },
  {
   "cell_type": "markdown",
   "metadata": {},
   "source": [
    "<h4>Format Extracted Data:</h4>"
   ]
  },
  {
   "cell_type": "code",
   "execution_count": 379,
   "metadata": {},
   "outputs": [
    {
     "data": {
      "text/markdown": [
       "Jeff, we have an immediate transfer we need to have done. Please send from account <span style='color:red'>LL544</span> and transfer $<span style='color:blue'>7200</span> to account <span style='color:orange'>MSA122</span>. Best Regards, Tom"
      ],
      "text/plain": [
       "<IPython.core.display.Markdown object>"
      ]
     },
     "metadata": {},
     "output_type": "display_data"
    },
    {
     "name": "stdout",
     "output_type": "stream",
     "text": [
      "Results:  {'accountA': 'LL544', 'amount': '7200', 'accountB': 'MSA122'} \n",
      "\n",
      "Payload:\n",
      " {'initiatingParty': 'DHILDHILXXX', 'paymentInformationId': 'MMSTADV52788051', 'paymentMethod': 'TRF', 'requestedExecutionDate': '2018-08-28', 'paymentIdentification': {'instructionIdentification': 'MMSTADV52788051', 'endToEndIdentification': 'MMSTADV52788051'}, 'instructionPriority': 'CRED', 'chargeBearer': 'FollowingServiceLevel', 'instructedAmount': {'amount': '7200', 'currency': 'ILS'}, 'PreCalculatedCharges': {'amount': 100, 'currency': 'USD', 'suppressAdditionalCharges': True}, 'debitorAgent': {'identification': 'EATCIL2WXXX'}, 'debtorAccountId': {'identificationType': 'PrimaryAccountNumber', 'identification': '8888888888', 'name': 'MSA122', 'currency': 'USD'}, 'creditor': {'name': 'LL544', 'postalAddress': {'addressLine': ['68 Rue de Charenton'], 'street': 'Street Name', 'buildingNumber': 14, 'postalCode': 70018, 'city': 'City', 'country': 'SG'}}, 'creditorAgent': {'identification': 'WPACIL2WXXX'}, 'creditorAccountId': {'identificationType': 'PrimaryAccountNumber', 'identification': '999999999'}, 'relatedRemittanceInformation': {'remittanceIdentification': 'RmtId1234', 'remittanceLocationMethod': 'URID', 'remittanceLocationElectronicAddress': 'Location'}, 'remittanceInformationUnstructured': 'RmtInf1234'}\n"
     ]
    }
   ],
   "source": [
    "results = c.query(query4)\n",
    "print(\"Results: \",results,\"\\n\")\n",
    "payload = sample_post\n",
    "payload['debtorAccountId']['name'] = results['accountB']\n",
    "payload['creditor']['name'] = results['accountA']\n",
    "payload['instructedAmount']['amount'] = results['amount']\n",
    "print(\"Payload:\\n\",payload)"
   ]
  },
  {
   "cell_type": "markdown",
   "metadata": {},
   "source": [
    "<h4>POST Data:</h4>\n",
    "<p>We can now POST the extracte data in the correct payload form.</p>"
   ]
  },
  {
   "cell_type": "code",
   "execution_count": 380,
   "metadata": {},
   "outputs": [
    {
     "name": "stdout",
     "output_type": "stream",
     "text": [
      "<Response [200]>\n",
      "{\"paymentRequestId\":\"O0B4UPAA61JFU505\",\"transactionStatus\":\"PDNG\"}\n"
     ]
    }
   ],
   "source": [
    "a = authenticate('config.csv')\n",
    "response,token = a.get_token()\n",
    "\n",
    "p = payments_api(token,'POST',payload)\n",
    "response = p.connect_endpoint()\n",
    "print(response.text)"
   ]
  },
  {
   "cell_type": "markdown",
   "metadata": {},
   "source": [
    "<h4>GET Payment Status:</h4>\n",
    "<p>We use the following class to check the status of a POSTed payment. It takes in the internationPaymentId.</p>"
   ]
  },
  {
   "cell_type": "code",
   "execution_count": 376,
   "metadata": {},
   "outputs": [],
   "source": [
    "class get_payments_api: \n",
    "    def __init__(self,token,method,internationalPaymentId,payload,additional_headers={},params = None): \n",
    "        self.token = token \n",
    "        self.endpoint_type = method\n",
    "        self.base_url = 'https://api.preprod.fusionfabric.cloud/payment/payment-initiation/v1/credit-transfer/international/'+internationalPaymentId+'/status'\n",
    "        self.additional_headers = additional_headers\n",
    "        self.params = params\n",
    "    \n",
    "    def connect_endpoint(self):\n",
    "        self.url = self.base_url \n",
    "        headers = {\n",
    "            'Authorization': 'Bearer ' + self.token,\n",
    "            'Content-Type' : 'application/json'\n",
    "            }\n",
    "        for key in self.additional_headers.keys():\n",
    "            headers[key] = self.additional_headers[key]\n",
    "        stringified_payload = json.dumps(payload)\n",
    "        response = requests.request(self.endpoint_type, self.url, params=self.params, data=stringified_payload,headers=headers)\n",
    "        return response"
   ]
  },
  {
   "cell_type": "markdown",
   "metadata": {},
   "source": [
    "<h4>Check Status:</h4>\n",
    "<p>Below we check the payment status for the posted payment from our Machine Learning model's extracted data.</p>"
   ]
  },
  {
   "cell_type": "code",
   "execution_count": 381,
   "metadata": {},
   "outputs": [
    {
     "name": "stdout",
     "output_type": "stream",
     "text": [
      "<Response [200]>\n",
      "{\"paymentInitiationStatusReport\":{\"transactionStatus\":\"PDNG\",\"statusReasonCode\":\"\",\"statusReasonAdditionalInformation\":\"\"}}\n"
     ]
    }
   ],
   "source": [
    "method = 'GET'\n",
    "internationalPaymentId = \"O0B4UPAA61JFU505\"\n",
    "payload = ''\n",
    "\n",
    "a = authenticate('config.csv')\n",
    "response,token = a.get_token()\n",
    "\n",
    "g = get_payments_api(token,method,internationalPaymentId,payload)\n",
    "response = g.connect_endpoint()\n",
    "print(response.text)"
   ]
  },
  {
   "cell_type": "code",
   "execution_count": null,
   "metadata": {},
   "outputs": [],
   "source": []
  }
 ],
 "metadata": {
  "kernelspec": {
   "display_name": "Python 2",
   "language": "python",
   "name": "python2"
  },
  "language_info": {
   "codemirror_mode": {
    "name": "ipython",
    "version": 2
   },
   "file_extension": ".py",
   "mimetype": "text/x-python",
   "name": "python",
   "nbconvert_exporter": "python",
   "pygments_lexer": "ipython2",
   "version": "2.7.17"
  }
 },
 "nbformat": 4,
 "nbformat_minor": 2
}
